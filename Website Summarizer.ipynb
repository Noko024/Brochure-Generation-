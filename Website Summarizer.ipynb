{
 "cells": [
  {
   "cell_type": "markdown",
   "id": "30fd7811-855a-4d75-bc8e-ed64dc0b7ad5",
   "metadata": {},
   "source": [
    "# Website Summarizer"
   ]
  },
  {
   "cell_type": "markdown",
   "id": "7e1d45e6-35e2-4480-aabe-4facae40a3d9",
   "metadata": {},
   "source": [
    "- Scrape\n",
    "- Prompts\n",
    "   - User/System"
   ]
  },
  {
   "cell_type": "code",
   "execution_count": 64,
   "id": "39f2ab0f-db3f-452d-8bc1-611259c91281",
   "metadata": {},
   "outputs": [],
   "source": [
    "import requests\n",
    "from bs4 import BeautifulSoup\n",
    "from openai import OpenAI\n",
    "from dotenv import load_dotenv\n",
    "import os\n",
    "from IPython.display import Markdown, display"
   ]
  },
  {
   "cell_type": "markdown",
   "id": "95776fb7-24eb-4e26-a0f1-6745bb1dca6e",
   "metadata": {},
   "source": [
    "## 1. Basic Scraper"
   ]
  },
  {
   "cell_type": "code",
   "execution_count": 29,
   "id": "08c4b5e2-196b-4a79-aabd-a8e0cd012a75",
   "metadata": {},
   "outputs": [],
   "source": [
    "headers = {\"User-Agent\": \"Mozilla/5.0 (Windows NT 10.0; Win64; x64) AppleWebKit/537.36 (KHTML, like Gecko) Chrome/117.0.0.0 Safari/537.36\"}\n",
    "\n",
    "class scraper:\n",
    "    def __init__(self,url):\n",
    "        self.url = url\n",
    "        response = requests.get(url, headers = headers)\n",
    "        soup = BeautifulSoup(response.content, 'html.parser')\n",
    "        for delet in soup.body([\"script\", \"style\", \"img\", \"input\"]):\n",
    "            delet.decompose()\n",
    "        self.body = soup.body\n",
    "        self.text = soup.body.get_text(separator=\"\\n\", strip=True)\n",
    "        self.title = soup.title.string if soup.title else \"No Title\"       "
   ]
  },
  {
   "cell_type": "code",
   "execution_count": 45,
   "id": "d187053e-a45a-4478-9313-f070eed67620",
   "metadata": {},
   "outputs": [
    {
     "name": "stdout",
     "output_type": "stream",
     "text": [
      "Tyrese Haliburton - Wikipedia\n"
     ]
    }
   ],
   "source": [
    "url = \"https://edwarddonner.com\"\n",
    "url = \"https://en.wikipedia.org/wiki/Tyrese_Haliburton\"\n",
    "webdata = scraper(url)\n",
    "print(webdata.title)"
   ]
  },
  {
   "cell_type": "markdown",
   "id": "41732bf5-ce03-4e23-9b07-a862ba49a1dd",
   "metadata": {},
   "source": [
    "## 2. Prompting\n",
    "```python\n",
    "[\n",
    "    {\"role\": \"system\", \"content\": \"system message goes here\"},\n",
    "    {\"role\": \"user\", \"content\": \"user message goes here\"}\n",
    "]"
   ]
  },
  {
   "cell_type": "code",
   "execution_count": 46,
   "id": "957bceb0-492f-4145-9f3a-49878d17d434",
   "metadata": {},
   "outputs": [],
   "source": [
    "system_prompt = \"You are an assistant that analyzes the contents of a website \\\n",
    "and provides a short summary, ignoring text that might be navigation related. \\\n",
    "Respond in markdown.\""
   ]
  },
  {
   "cell_type": "code",
   "execution_count": 47,
   "id": "2c28b202-9ae6-4901-9f4a-5e1f7436c6f4",
   "metadata": {},
   "outputs": [],
   "source": [
    "def user_prompt_for(website):\n",
    "    user_prompt = f\"You are looking at a website titled {website.title}\"\n",
    "    user_prompt += \"\\nThe contents of this website is as follows; \\\n",
    "please provide a short summary of this website in markdown. \\\n",
    "If it includes news or announcements, then summarize these too.\\n\\n\"\n",
    "    user_prompt += website.text\n",
    "    return user_prompt"
   ]
  },
  {
   "cell_type": "code",
   "execution_count": 48,
   "id": "ae3a1817-dc69-4dd7-b617-8be760699458",
   "metadata": {},
   "outputs": [],
   "source": [
    "def messages_for(website):\n",
    "    return [\n",
    "        {\"role\": \"system\", \"content\": system_prompt},\n",
    "        {\"role\": \"user\", \"content\": user_prompt_for(website)}\n",
    "    ]"
   ]
  },
  {
   "cell_type": "markdown",
   "id": "84b5fde8-c27b-4226-b003-dabaa7f7bcbd",
   "metadata": {},
   "source": [
    "## 3. GPT response"
   ]
  },
  {
   "cell_type": "code",
   "execution_count": 74,
   "id": "7365cf4a-66ac-43ff-83bd-e5cf7684a750",
   "metadata": {},
   "outputs": [],
   "source": [
    "load_dotenv(override=True)\n",
    "api_key = os.getenv('OPENAI_API_KEY')\n",
    "openai = OpenAI()"
   ]
  },
  {
   "cell_type": "code",
   "execution_count": 75,
   "id": "28256f9d-534a-430a-8b90-ffb753307504",
   "metadata": {},
   "outputs": [],
   "source": [
    "def summarize(url):\n",
    "    website = scraper(url)\n",
    "    response = openai.chat.completions.create(\n",
    "        model = \"gpt-4o-mini\",\n",
    "        messages = messages_for(website)\n",
    "    )\n",
    "    return response.choices[0].message.content"
   ]
  },
  {
   "cell_type": "code",
   "execution_count": 76,
   "id": "81a79573-c8a2-4e00-a4b3-b53ad43de10c",
   "metadata": {},
   "outputs": [
    {
     "data": {
      "text/plain": [
       "\"# Tyrese Haliburton - Wikipedia Summary\\n\\nTyrese Haliburton is an American professional basketball player born on February 29, 2000, in Oshkosh, Wisconsin. He plays as a point guard for the Indiana Pacers in the NBA and is recognized as a two-time NBA All-Star and two-time All-NBA Third Team selection.\\n\\n## Early Life and High School Career\\nHaliburton excelled in basketball during his time at Oshkosh North High School, where he was named Player of the Year in his conference and led his team to a state championship. During his junior and senior years, he averaged impressive stats and garnered various accolades.\\n\\n## College Career\\nHaliburton played college basketball at Iowa State, where he broke multiple records, including assists in a single game. His sophomore season was cut short by an injury, yet he declared for the 2020 NBA Draft after an outstanding career.\\n\\n## Professional Career\\n- **Sacramento Kings (2020–2022)**: Drafted 12th overall in the 2020 draft, Haliburton quickly made a mark, earning All-Rookie honors.\\n- **Indiana Pacers (2022–Present)**: Acquired by the Pacers in a trade, he has achieved significant milestones, including his first All-Star selection in 2023 and leading the Pacers to the NBA Finals in 2025. He also faced injury setbacks, including a torn Achilles in the Finals.\\n\\n## National Team Career\\nHaliburton has represented the USA in international competitions, winning a gold medal at the 2024 Summer Olympics and previously at the 2019 FIBA Under-19 World Cup.\\n\\n### Recent Accomplishments\\n- Signed a maximum contract extension with the Pacers in July 2023.\\n- Selected to play for the USA Men's National Team at the 2023 FIBA Basketball World Cup.\\n- Achieved notable statistics in the 2024–25 season, including leading the league in assists.\\n\\nHaliburton is regarded for his unique playing style and has been recognized for his clutch performances during crucial games, solidifying his growing reputation in the NBA.\""
      ]
     },
     "execution_count": 76,
     "metadata": {},
     "output_type": "execute_result"
    }
   ],
   "source": [
    "summarize(url)"
   ]
  },
  {
   "cell_type": "code",
   "execution_count": 77,
   "id": "4cf69079-8638-4f41-a98b-83887f471c9a",
   "metadata": {},
   "outputs": [],
   "source": [
    "def summarize_markdown(summary):\n",
    "    return Markdown(summary)"
   ]
  },
  {
   "cell_type": "code",
   "execution_count": 78,
   "id": "ed101ea5-d13e-4c44-83eb-6d3e11d9c54e",
   "metadata": {},
   "outputs": [
    {
     "data": {
      "text/markdown": [
       "# Tyrese Haliburton - Wikipedia Summary\n",
       "\n",
       "Tyrese Haliburton, born on February 29, 2000, in Oshkosh, Wisconsin, is an American professional basketball player for the Indiana Pacers in the NBA. He began his career with the Sacramento Kings after being drafted 12th overall in the 2020 NBA Draft. Haliburton has established himself as a standout player, earning two NBA All-Star selections and being named to the All-NBA Third Team twice as well.\n",
       "\n",
       "## Early Life and Education\n",
       "Haliburton grew up in Oshkosh and played high school basketball at Oshkosh North High School. He committed to Iowa State University for college basketball, where he made a significant impact early in his freshman year before suffering a season-ending wrist injury.\n",
       "\n",
       "## Professional Career\n",
       "- **Sacramento Kings (2020–2022)**: Haliburton had a successful rookie season, being named to the NBA All-Rookie First Team. He set multiple records and was recognized for his playmaking abilities.\n",
       "  \n",
       "- **Indiana Pacers (2022–present)**: Acquired in a trade with the Kings, Haliburton quickly became a core player for the Pacers. He achieved his first All-Star selection in 2023 and subsequently led the team to its first NBA Finals appearance in 2025. His recent seasons were marked by exceptional performance, including a notable triple-double and breaking various franchise records.\n",
       "\n",
       "## National Team Career\n",
       "Haliburton represented the United States at the FIBA Under-19 World Cup in 2019, where the team won gold. He also participated in the 2024 Summer Olympics, contributing to the team's success.\n",
       "\n",
       "## Recent Highlights (2023-2025)\n",
       "- **2023-24**: Named an All-Star and signed a significant contract extension.\n",
       "- **2024-25**: Haliburton led the Pacers to the NBA Finals, becoming known for his clutch performances throughout the playoffs, though he faced an unfortunate Achilles tendon injury during the finals that could sideline him for an extended period.\n",
       "\n",
       "## Personal Life\n",
       "He is known for his strong faith and has expressed the importance of spirituality in his life. Haliburton is also related to several notable basketball players and is recognized for his high-volume shooting skills despite an unconventional shooting form.\n",
       "\n",
       "This summary captures the essential aspects of Tyrese Haliburton’s life, career, and achievements, as detailed on his Wikipedia page."
      ],
      "text/plain": [
       "<IPython.core.display.Markdown object>"
      ]
     },
     "execution_count": 78,
     "metadata": {},
     "output_type": "execute_result"
    }
   ],
   "source": [
    "summarize_markdown(summarize(url))"
   ]
  },
  {
   "cell_type": "markdown",
   "id": "1fee21ea-0ef9-4126-bd94-566eaada3410",
   "metadata": {},
   "source": [
    "## 4. Ollama response"
   ]
  },
  {
   "cell_type": "code",
   "execution_count": 69,
   "id": "071a92d0-318c-4469-a668-3323390568b4",
   "metadata": {},
   "outputs": [],
   "source": [
    "# Constants\n",
    "\n",
    "OLLAMA_API = \"http://localhost:11434/api/chat\"\n",
    "HEADERS = {\"Content-Type\": \"application/json\"}\n",
    "MODEL = \"llama3.2\""
   ]
  },
  {
   "cell_type": "code",
   "execution_count": 81,
   "id": "7bc92efe-2ad4-4311-b299-1ec72d129e5c",
   "metadata": {},
   "outputs": [],
   "source": [
    "messages = messages_for(scraper(url))"
   ]
  },
  {
   "cell_type": "code",
   "execution_count": 82,
   "id": "78ff24d3-39be-417c-9fd7-a7e7116c2c4f",
   "metadata": {},
   "outputs": [],
   "source": [
    "payload = {\n",
    "        \"model\": MODEL,\n",
    "        \"messages\": messages,\n",
    "        \"stream\": False\n",
    "    }"
   ]
  },
  {
   "cell_type": "code",
   "execution_count": 87,
   "id": "8c5eb3b8-02ef-4d5c-aff2-c2024e83107d",
   "metadata": {},
   "outputs": [
    {
     "data": {
      "text/markdown": [
       "Tyrese Haliburton is an American professional basketball player who plays as a point guard for the Indiana Pacers in the National Basketball Association (NBA). He was drafted by the Sacramento Kings with the 20th overall pick in the 2020 NBA draft and played for the team from 2020 to 2023.\n",
       "\n",
       "Early Life and College Career\n",
       "Haliburton was born on January 29, 2001, in Oshkosh, Wisconsin. He grew up playing basketball and soccer, and he attended Kettle Moraine Lutheran High School in Menomonee Falls, Wisconsin. Haliburton then played college basketball for Iowa State University from 2019 to 2020.\n",
       "\n",
       "Professional Career\n",
       "Haliburton was drafted by the Sacramento Kings with the 20th overall pick in the 2020 NBA draft. He made his professional debut in October 2020 and quickly became a key player for the team, averaging 14.6 points, 7.8 assists, and 4.3 rebounds per game.\n",
       "\n",
       "In January 2022, Haliburton was traded to the Indiana Pacers along with Tyrese Maxey, Ben Simmons, and a draft pick in exchange for Domantas Sabonis, James Johnson, and a 2022 first-round pick. He quickly became a key player for the team, averaging 17.3 points, 8.5 assists, and 4.9 rebounds per game.\n",
       "\n",
       "Awards and Accolades\n",
       "Haliburton was named to the NBA All-Rookie Second Team in 2021 and was also selected as an NBA All-Star in 2023. He is considered one of the top young players in the league and is known for his exceptional passing ability, scoring versatility, and defensive skills.\n",
       "\n",
       "International Career\n",
       "Haliburton played for the United States men's national basketball team at the 2024 Summer Olympics, where he helped the team win a gold medal. He also competed in the FIBA Basketball World Cup in 2023, where the United States finished as runners-up.\n",
       "\n",
       "Personal Life\n",
       "Haliburton is a Christian and has spoken publicly about his faith. He is also known for his philanthropic work, particularly in his hometown of Oshkosh, Wisconsin."
      ],
      "text/plain": [
       "<IPython.core.display.Markdown object>"
      ]
     },
     "execution_count": 87,
     "metadata": {},
     "output_type": "execute_result"
    }
   ],
   "source": [
    "def ollama():\n",
    "    response = requests.post(OLLAMA_API, json=payload, headers=HEADERS)\n",
    "    response_content = response.json()['message']['content']\n",
    "    return Markdown(response_content)\n",
    "ollama()"
   ]
  }
 ],
 "metadata": {
  "kernelspec": {
   "display_name": "Python 3 (ipykernel)",
   "language": "python",
   "name": "python3"
  },
  "language_info": {
   "codemirror_mode": {
    "name": "ipython",
    "version": 3
   },
   "file_extension": ".py",
   "mimetype": "text/x-python",
   "name": "python",
   "nbconvert_exporter": "python",
   "pygments_lexer": "ipython3",
   "version": "3.12.5"
  }
 },
 "nbformat": 4,
 "nbformat_minor": 5
}
